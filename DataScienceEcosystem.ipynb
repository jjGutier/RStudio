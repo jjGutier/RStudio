{
 "cells": [
  {
   "cell_type": "markdown",
   "id": "984aff76-cb45-4301-82dd-1dbaa3052ae3",
   "metadata": {},
   "source": [
    "# Data Science Tools and Ecosystem"
   ]
  },
  {
   "cell_type": "markdown",
   "id": "6c457897-9d65-4058-b579-7d54a6cdfc0c",
   "metadata": {},
   "source": [
    "## In this notebook, Data Science Tools and Ecosystem are summarized."
   ]
  },
  {
   "cell_type": "markdown",
   "id": "fc9216e0-5458-4562-ad56-45af3ff21118",
   "metadata": {},
   "source": [
    "### Some of the popular languages that Data Scientists use are:\n",
    "\n",
    "1. Scala\n",
    "2. Phyton\n",
    "3. R \n"
   ]
  },
  {
   "cell_type": "markdown",
   "id": "1812ea4a-1a9c-4aa9-af27-1baf5cb5d32a",
   "metadata": {},
   "source": [
    "Some of the commonly used libraries used by Data Scientists include: dslibraries.png\n",
    "1. ggplot\n",
    "2. fplyr\n",
    "3. caret\n",
    "\n",
    "\n"
   ]
  },
  {
   "cell_type": "markdown",
   "id": "19ba0ec1-e40d-4655-890e-b87dbf010ea8",
   "metadata": {},
   "source": [
    "| Data Science Tools |\n",
    "|--------------------|\n",
    "| R                  |\n",
    "| Python (with Jupyter Notebook) |\n",
    "| Julia              |\n"
   ]
  },
  {
   "cell_type": "markdown",
   "id": "3b365d71-c95f-4027-972e-ca9a64c17bc9",
   "metadata": {},
   "source": [
    "### Below are a few examples of evaluating arithmetic expressions in Python:\n",
    "**Basic Arithmetic**:\n",
    "   - Addition: $$3 + 5 = 8$$\n",
    "   - Subtraction: $$10 - 4 = 6$$\n"
   ]
  },
  {
   "cell_type": "code",
   "execution_count": 11,
   "id": "a412e78f-9cab-473e-93f2-f2db96c3edae",
   "metadata": {},
   "outputs": [
    {
     "name": "stdout",
     "output_type": "stream",
     "text": [
      "resultado: 17\n"
     ]
    }
   ],
   "source": [
    "# This is a simple arithmetic expression to multiply then add integrers\n",
    "resultado = (3 * 4) + 5\n",
    "print(\"resultado:\", resultado)"
   ]
  },
  {
   "cell_type": "code",
   "execution_count": 15,
   "id": "95d021fd-f834-4249-b927-b312aab424c7",
   "metadata": {},
   "outputs": [
    {
     "name": "stdout",
     "output_type": "stream",
     "text": [
      "200 min = 3.3333333333333335\n"
     ]
    }
   ],
   "source": [
    "# This will convert 200 minutes to hours by diving by 60\n",
    "minutes = 200\n",
    "hours = minutes / 60\n",
    "print(\"200 min =\", hours)"
   ]
  },
  {
   "cell_type": "markdown",
   "id": "767b1c2e-691f-44a8-9e06-56395c3b0c7e",
   "metadata": {},
   "source": [
    "# Objectives: \n",
    "* Git\n",
    "* GitHub\n",
    "* R libraries"
   ]
  },
  {
   "cell_type": "markdown",
   "id": "90fba58d-edec-4675-883a-fa8373cc5556",
   "metadata": {},
   "source": [
    "## Author : \n",
    "JJ Gutier\n"
   ]
  },
  {
   "cell_type": "code",
   "execution_count": null,
   "id": "30010701-783d-46d8-8321-84eef11b70d7",
   "metadata": {},
   "outputs": [],
   "source": []
  },
  {
   "cell_type": "code",
   "execution_count": null,
   "id": "f8339925-acdf-4893-9296-31572692418d",
   "metadata": {},
   "outputs": [],
   "source": []
  }
 ],
 "metadata": {
  "kernelspec": {
   "display_name": "Python 3 (ipykernel)",
   "language": "python",
   "name": "python3"
  },
  "language_info": {
   "codemirror_mode": {
    "name": "ipython",
    "version": 3
   },
   "file_extension": ".py",
   "mimetype": "text/x-python",
   "name": "python",
   "nbconvert_exporter": "python",
   "pygments_lexer": "ipython3",
   "version": "3.12.4"
  }
 },
 "nbformat": 4,
 "nbformat_minor": 5
}
